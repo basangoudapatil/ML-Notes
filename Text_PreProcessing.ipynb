{
  "cells": [
    {
      "cell_type": "markdown",
      "metadata": {
        "id": "view-in-github",
        "colab_type": "text"
      },
      "source": [
        "<a href=\"https://colab.research.google.com/github/basangoudapatil/ML-Notes/blob/main/Text_PreProcessing.ipynb\" target=\"_parent\"><img src=\"https://colab.research.google.com/assets/colab-badge.svg\" alt=\"Open In Colab\"/></a>"
      ]
    },
    {
      "cell_type": "markdown",
      "id": "f1647419",
      "metadata": {
        "id": "f1647419"
      },
      "source": [
        "1. Word Tokenisation"
      ]
    },
    {
      "cell_type": "code",
      "execution_count": null,
      "id": "54f84016",
      "metadata": {
        "id": "54f84016",
        "outputId": "8826a73c-3bb1-47c4-9412-12c6c49047d0"
      },
      "outputs": [
        {
          "name": "stdout",
          "output_type": "stream",
          "text": [
            "['The', 'Quick', 'brown', 'fox', 'jumped', 'over', 'the', 'lazy', 'dog']\n"
          ]
        }
      ],
      "source": [
        "text = \"The Quick brown fox jumped over the lazy dog\"\n",
        "\n",
        "\n",
        "tokens= text.split()\n",
        "print(tokens)"
      ]
    },
    {
      "cell_type": "code",
      "execution_count": null,
      "id": "3fc10817",
      "metadata": {
        "id": "3fc10817",
        "outputId": "1ecad6e9-a418-4a0e-c2fb-e763b7aabd25"
      },
      "outputs": [
        {
          "name": "stdout",
          "output_type": "stream",
          "text": [
            "['The', 'Quick', 'brown', 'fox,', 'jumped', 'over', 'the', 'lazy', 'dog', 'with', 'comma']\n"
          ]
        }
      ],
      "source": [
        "text = \"The Quick brown fox, jumped over the lazy dog with comma\"\n",
        "tokens= text.split()\n",
        "print(tokens)"
      ]
    },
    {
      "cell_type": "code",
      "execution_count": null,
      "id": "554134f9",
      "metadata": {
        "id": "554134f9",
        "outputId": "b3bc2283-a8bf-420c-bcf2-8c6c5b9ab921"
      },
      "outputs": [
        {
          "name": "stderr",
          "output_type": "stream",
          "text": [
            "[nltk_data] Downloading package punkt to\n",
            "[nltk_data]     C:\\Users\\AJANTHA\\AppData\\Roaming\\nltk_data...\n",
            "[nltk_data]   Package punkt is already up-to-date!\n"
          ]
        },
        {
          "data": {
            "text/plain": [
              "True"
            ]
          },
          "execution_count": 7,
          "metadata": {},
          "output_type": "execute_result"
        }
      ],
      "source": [
        "import nltk\n",
        "nltk.download('punkt')"
      ]
    },
    {
      "cell_type": "code",
      "execution_count": null,
      "id": "6e69a81d",
      "metadata": {
        "id": "6e69a81d",
        "outputId": "fd0c1ff0-435f-4e78-b23d-68fd7c4696b2"
      },
      "outputs": [
        {
          "name": "stdout",
          "output_type": "stream",
          "text": [
            "['The', 'Quick', 'brown', 'fox', ',', 'jumped', 'over', 'the', 'lazy', 'dog', 'with', 'comma']\n"
          ]
        }
      ],
      "source": [
        "from nltk.tokenize import word_tokenize\n",
        "\n",
        "text = \"The Quick brown fox, jumped over the lazy dog with comma\"\n",
        "\n",
        "tokens= word_tokenize(text)\n",
        "print(tokens)"
      ]
    },
    {
      "cell_type": "code",
      "execution_count": null,
      "id": "a1f74f0c",
      "metadata": {
        "id": "a1f74f0c",
        "outputId": "b4fb6466-c37b-4068-fad6-8b6f5983c92e"
      },
      "outputs": [
        {
          "name": "stderr",
          "output_type": "stream",
          "text": [
            "[nltk_data] Downloading package stopwords to\n",
            "[nltk_data]     C:\\Users\\AJANTHA\\AppData\\Roaming\\nltk_data...\n",
            "[nltk_data]   Package stopwords is already up-to-date!\n"
          ]
        }
      ],
      "source": [
        "from nltk import download\n",
        "download('stopwords')\n",
        "from nltk import word_tokenize\n",
        "from nltk.corpus import stopwords"
      ]
    },
    {
      "cell_type": "code",
      "execution_count": null,
      "id": "6d2af96c",
      "metadata": {
        "id": "6d2af96c"
      },
      "outputs": [],
      "source": [
        "stop_words = stopwords.words('english')"
      ]
    },
    {
      "cell_type": "code",
      "execution_count": null,
      "id": "fa3853a1",
      "metadata": {
        "id": "fa3853a1",
        "outputId": "9d6655f1-35fa-4796-bfb3-c1518f4e9806"
      },
      "outputs": [
        {
          "name": "stdout",
          "output_type": "stream",
          "text": [
            "['i', 'me', 'my', 'myself', 'we', 'our', 'ours', 'ourselves', 'you', \"you're\", \"you've\", \"you'll\", \"you'd\", 'your', 'yours', 'yourself', 'yourselves', 'he', 'him', 'his', 'himself', 'she', \"she's\", 'her', 'hers', 'herself', 'it', \"it's\", 'its', 'itself', 'they', 'them', 'their', 'theirs', 'themselves', 'what', 'which', 'who', 'whom', 'this', 'that', \"that'll\", 'these', 'those', 'am', 'is', 'are', 'was', 'were', 'be', 'been', 'being', 'have', 'has', 'had', 'having', 'do', 'does', 'did', 'doing', 'a', 'an', 'the', 'and', 'but', 'if', 'or', 'because', 'as', 'until', 'while', 'of', 'at', 'by', 'for', 'with', 'about', 'against', 'between', 'into', 'through', 'during', 'before', 'after', 'above', 'below', 'to', 'from', 'up', 'down', 'in', 'out', 'on', 'off', 'over', 'under', 'again', 'further', 'then', 'once', 'here', 'there', 'when', 'where', 'why', 'how', 'all', 'any', 'both', 'each', 'few', 'more', 'most', 'other', 'some', 'such', 'no', 'nor', 'not', 'only', 'own', 'same', 'so', 'than', 'too', 'very', 's', 't', 'can', 'will', 'just', 'don', \"don't\", 'should', \"should've\", 'now', 'd', 'll', 'm', 'o', 're', 've', 'y', 'ain', 'aren', \"aren't\", 'couldn', \"couldn't\", 'didn', \"didn't\", 'doesn', \"doesn't\", 'hadn', \"hadn't\", 'hasn', \"hasn't\", 'haven', \"haven't\", 'isn', \"isn't\", 'ma', 'mightn', \"mightn't\", 'mustn', \"mustn't\", 'needn', \"needn't\", 'shan', \"shan't\", 'shouldn', \"shouldn't\", 'wasn', \"wasn't\", 'weren', \"weren't\", 'won', \"won't\", 'wouldn', \"wouldn't\"]\n"
          ]
        }
      ],
      "source": [
        "print(stop_words)"
      ]
    },
    {
      "cell_type": "code",
      "execution_count": null,
      "id": "3705958a",
      "metadata": {
        "id": "3705958a",
        "outputId": "3f429126-f4f3-4d20-e6b1-aa9f0087389a"
      },
      "outputs": [
        {
          "name": "stdout",
          "output_type": "stream",
          "text": [
            "['I', 'am', 'Learning', 'NLP', '.', 'Its', 'most', 'Popular', '.']\n"
          ]
        }
      ],
      "source": [
        "sentence = \"I am Learning NLP. Its most Popular.\"\n",
        "\n",
        "sent_words = word_tokenize(sentence)\n",
        "\n",
        "print(sent_words)\n"
      ]
    },
    {
      "cell_type": "code",
      "execution_count": null,
      "id": "ce852617",
      "metadata": {
        "id": "ce852617"
      },
      "outputs": [],
      "source": [
        "sentence = \"I visited the US from the UK on 22 - 10 - 22\""
      ]
    },
    {
      "cell_type": "code",
      "execution_count": null,
      "id": "a9fd2fa4",
      "metadata": {
        "id": "a9fd2fa4"
      },
      "outputs": [],
      "source": [
        "def normalize(text):\n",
        "    return text.replace(\"US\", \"United States\").replace(\"UK\", \"United Kingdom\").replace(\"- 22\", \"- 2022\")"
      ]
    },
    {
      "cell_type": "code",
      "execution_count": null,
      "id": "c45f350a",
      "metadata": {
        "id": "c45f350a",
        "outputId": "d193e9f0-2483-4ad8-bff8-73daac596136"
      },
      "outputs": [
        {
          "name": "stdout",
          "output_type": "stream",
          "text": [
            "I visited the United States from the United Kingdom on 22 - 10 - 2022\n"
          ]
        }
      ],
      "source": [
        "norm_sent = normalize(sentence)\n",
        "print(norm_sent)"
      ]
    },
    {
      "cell_type": "code",
      "execution_count": null,
      "id": "f5900b15",
      "metadata": {
        "id": "f5900b15",
        "outputId": "9592a006-6fb1-4ca5-bc70-722982b5b264"
      },
      "outputs": [
        {
          "name": "stdout",
          "output_type": "stream",
          "text": [
            "Requirement already satisfied: autocorrect in c:\\users\\ajantha\\anaconda3\\lib\\site-packages (2.6.1)Note: you may need to restart the kernel to use updated packages.\n"
          ]
        },
        {
          "name": "stderr",
          "output_type": "stream",
          "text": [
            "\n",
            "[notice] A new release of pip available: 22.2.1 -> 22.2.2\n",
            "[notice] To update, run: python.exe -m pip install --upgrade pip\n"
          ]
        },
        {
          "name": "stdout",
          "output_type": "stream",
          "text": [
            "\n"
          ]
        }
      ],
      "source": [
        "pip install autocorrect"
      ]
    },
    {
      "cell_type": "code",
      "execution_count": null,
      "id": "e4224e9f",
      "metadata": {
        "id": "e4224e9f"
      },
      "outputs": [],
      "source": [
        "from autocorrect import Speller"
      ]
    },
    {
      "cell_type": "code",
      "execution_count": null,
      "id": "7fd8defe",
      "metadata": {
        "id": "7fd8defe",
        "outputId": "638695e3-dd6e-4a0e-95aa-a361ca2a3bb8"
      },
      "outputs": [
        {
          "data": {
            "text/plain": [
              "'Natural'"
            ]
          },
          "execution_count": 21,
          "metadata": {},
          "output_type": "execute_result"
        }
      ],
      "source": [
        "spell=Speller(lang='en')\n",
        "spell(\"Natureal\")"
      ]
    },
    {
      "cell_type": "code",
      "execution_count": null,
      "id": "926d6097",
      "metadata": {
        "id": "926d6097",
        "outputId": "58bd95d6-4c86-47c3-ea6d-251c7438548e"
      },
      "outputs": [
        {
          "name": "stdout",
          "output_type": "stream",
          "text": [
            "['Ntural', 'Luanguage', 'Processin', 'deals', 'with', 'the', 'art', 'of', 'extracting', 'insightes', 'from', 'Natureal', 'Languaggg']\n"
          ]
        }
      ],
      "source": [
        "sente = word_tokenize(\"Ntural Luanguage Processin deals with the art of extracting insightes from Natureal Languaggg\")\n",
        "print(sente)"
      ]
    },
    {
      "cell_type": "code",
      "execution_count": null,
      "id": "ba610597",
      "metadata": {
        "id": "ba610597"
      },
      "outputs": [],
      "source": [
        "def correct_spell(tokens):\n",
        "    sentence_corrected = ' '. join([spell(word)for word in tokens])\n",
        "    return sentence_corrected"
      ]
    },
    {
      "cell_type": "code",
      "execution_count": null,
      "id": "3d249bcc",
      "metadata": {
        "id": "3d249bcc",
        "outputId": "867e64ee-8d83-4b6d-c8c8-1be0c488f1bf"
      },
      "outputs": [
        {
          "name": "stdout",
          "output_type": "stream",
          "text": [
            "Natural Language Processing deals with the art of extracting insights from Natural Language\n"
          ]
        }
      ],
      "source": [
        "print(correct_spell(sente))"
      ]
    },
    {
      "cell_type": "code",
      "execution_count": null,
      "id": "d1a0dc16",
      "metadata": {
        "id": "d1a0dc16",
        "outputId": "67b210bd-2b88-4dcd-a141-6e7340b5c020"
      },
      "outputs": [
        {
          "name": "stdout",
          "output_type": "stream",
          "text": [
            "['Tweet', 'about', '#', 'NLProc', '@', 'PyConUK', ':', ')', ':', '(']\n"
          ]
        }
      ],
      "source": [
        "from nltk.tokenize import word_tokenize\n",
        "\n",
        "text = \"Tweet about #NLProc @PyConUK  :)   :(\"\n",
        "\n",
        "tokens= word_tokenize(text)\n",
        "\n",
        "print(tokens)"
      ]
    },
    {
      "cell_type": "code",
      "execution_count": null,
      "id": "16685197",
      "metadata": {
        "id": "16685197",
        "outputId": "d90a41b2-18db-4b2d-a0eb-9bb1742b46fa"
      },
      "outputs": [
        {
          "name": "stdout",
          "output_type": "stream",
          "text": [
            "['Tweet', 'about', '#NLProc', '@PyConUK', ':)', ':(']\n"
          ]
        }
      ],
      "source": [
        "from nltk.tokenize import TweetTokenizer\n",
        "\n",
        "text = \"Tweet about #NLProc @PyConUK  :)   :(\"\n",
        "tokenizer = TweetTokenizer()\n",
        "tokens = tokenizer.tokenize(text)\n",
        "\n",
        "print(tokens)\n",
        "\n"
      ]
    },
    {
      "cell_type": "code",
      "execution_count": null,
      "id": "554ac2b1",
      "metadata": {
        "id": "554ac2b1",
        "outputId": "64368cbc-00c5-4f61-e6b7-ebb43d47e4f6"
      },
      "outputs": [
        {
          "name": "stdout",
          "output_type": "stream",
          "text": [
            "['Tweet', 'about', '#NLProc', ':)', ':(']\n"
          ]
        }
      ],
      "source": [
        "from nltk.tokenize import TweetTokenizer\n",
        "\n",
        "text = \"Tweet about #NLProc @PyConUK  :)   :(\"\n",
        "tokenizer = TweetTokenizer(strip_handles=True)\n",
        "tokens = tokenizer.tokenize(text)\n",
        "\n",
        "print(tokens)"
      ]
    },
    {
      "cell_type": "code",
      "execution_count": null,
      "id": "1428000e",
      "metadata": {
        "id": "1428000e",
        "outputId": "5aab356e-0938-4fec-f475-d051b3d11f3b"
      },
      "outputs": [
        {
          "name": "stdout",
          "output_type": "stream",
          "text": [
            "['How', 'about', 'Currencies', '(', 'like', '$', '100.00', ')', 'and', 'dates', '(', 'like', '11th', 'October', ')']\n"
          ]
        }
      ],
      "source": [
        "from nltk.tokenize import word_tokenize\n",
        "\n",
        "text = \"How about Currencies (like $100.00) and dates( like 11th October)\"\n",
        "\n",
        "tokens = word_tokenize(text)\n",
        "print(tokens)"
      ]
    },
    {
      "cell_type": "markdown",
      "id": "14bfb64e",
      "metadata": {
        "id": "14bfb64e"
      },
      "source": [
        "2. Stemming"
      ]
    },
    {
      "cell_type": "code",
      "execution_count": null,
      "id": "072fe45d",
      "metadata": {
        "id": "072fe45d",
        "outputId": "f853c785-f50b-468a-a876-717904ce97ff"
      },
      "outputs": [
        {
          "name": "stdout",
          "output_type": "stream",
          "text": [
            "have\n",
            "have\n",
            "had\n",
            "fish\n",
            "fish\n",
            "fisher\n",
            "fish\n",
            "fish\n"
          ]
        }
      ],
      "source": [
        "from nltk.stem import PorterStemmer\n",
        "\n",
        "s=PorterStemmer()\n",
        "\n",
        "print(s.stem(\"Having\"))\n",
        "print(s.stem(\"Have\"))\n",
        "print(s.stem(\"Had\"))\n",
        "\n",
        "\n",
        "print(s.stem(\"Fishing\"))\n",
        "print(s.stem(\"Fish\"))\n",
        "print(s.stem(\"Fisher\"))\n",
        "print(s.stem(\"Fishes\"))\n",
        "print(s.stem(\"Fished\"))\n"
      ]
    },
    {
      "cell_type": "markdown",
      "id": "e88692f3",
      "metadata": {
        "id": "e88692f3"
      },
      "source": [
        "3. Lemmatisation"
      ]
    },
    {
      "cell_type": "code",
      "execution_count": null,
      "id": "8b51593d",
      "metadata": {
        "id": "8b51593d",
        "outputId": "9408e2e1-da07-4d89-fd7f-19beeb090a03"
      },
      "outputs": [
        {
          "name": "stdout",
          "output_type": "stream",
          "text": [
            "have\n",
            "have\n",
            "have\n",
            "fish\n",
            "fish\n",
            "fisher\n",
            "fish\n",
            "fish\n",
            "be\n",
            "be\n",
            "be\n"
          ]
        }
      ],
      "source": [
        "# POS (Part Of Speech) verb, noun, etc....\n",
        "from nltk.stem import WordNetLemmatizer\n",
        "\n",
        "s = WordNetLemmatizer()\n",
        "print(s.lemmatize('having', pos='v'))\n",
        "print(s.lemmatize('have', pos='v'))\n",
        "print(s.lemmatize('had', pos='v'))\n",
        "\n",
        "print(s.lemmatize('fishing', pos='v'))\n",
        "print(s.lemmatize('fish', pos='v'))\n",
        "print(s.lemmatize('fisher', pos='n'))\n",
        "print(s.lemmatize('fishes', pos='v'))\n",
        "print(s.lemmatize('fished', pos='v'))\n",
        "\n",
        "print(s.lemmatize('am', pos='v'))\n",
        "print(s.lemmatize('is', pos='v'))\n",
        "print(s.lemmatize('was', pos='v'))"
      ]
    },
    {
      "cell_type": "code",
      "execution_count": null,
      "id": "04a11aec",
      "metadata": {
        "id": "04a11aec"
      },
      "outputs": [],
      "source": []
    }
  ],
  "metadata": {
    "kernelspec": {
      "display_name": "Python 3 (ipykernel)",
      "language": "python",
      "name": "python3"
    },
    "language_info": {
      "codemirror_mode": {
        "name": "ipython",
        "version": 3
      },
      "file_extension": ".py",
      "mimetype": "text/x-python",
      "name": "python",
      "nbconvert_exporter": "python",
      "pygments_lexer": "ipython3",
      "version": "3.9.7"
    },
    "colab": {
      "provenance": [],
      "include_colab_link": true
    }
  },
  "nbformat": 4,
  "nbformat_minor": 5
}